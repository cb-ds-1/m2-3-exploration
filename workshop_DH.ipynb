{
 "cells": [
  {
   "cell_type": "markdown",
   "metadata": {},
   "source": [
    "Dylan Hastings"
   ]
  },
  {
   "cell_type": "markdown",
   "metadata": {},
   "source": [
    "# 1.1 Birth Rates\n",
    "\n",
    "The data on US births, provided by the CDC is in `data/births.csv`.\n",
    "\n",
    "Reproduce the following plot of births by gender over time given the data:\n",
    "\n",
    "![](births_gender.png)\n",
    "\n",
    "Note the `1e6` on the y axis for scale"
   ]
  },
  {
   "cell_type": "code",
   "execution_count": 156,
   "metadata": {},
   "outputs": [],
   "source": [
    "%matplotlib inline\n",
    "\n",
    "import pandas as pd\n",
    "import matplotlib as mpl\n",
    "import matplotlib.pyplot as plt\n",
    "import numpy as np\n",
    "import seaborn as sns"
   ]
  },
  {
   "cell_type": "code",
   "execution_count": 157,
   "metadata": {},
   "outputs": [],
   "source": [
    "br = pd.read_csv('data/births.csv')"
   ]
  },
  {
   "cell_type": "code",
   "execution_count": 158,
   "metadata": {},
   "outputs": [
    {
     "data": {
      "text/plain": [
       "Text(0, 0.5, 'total births per year')"
      ]
     },
     "execution_count": 158,
     "metadata": {},
     "output_type": "execute_result"
    },
    {
     "data": {
      "image/png": "[encoded data removed]",
      "text/plain": [
       "<Figure size 432x288 with 1 Axes>"
      ]
     },
     "metadata": {
      "needs_background": "light"
     },
     "output_type": "display_data"
    }
   ],
   "source": [
    "fig, ax = plt.subplots(figsize = (6,4))\n",
    "brf = br.loc[br.gender == 'F']\n",
    "female_births = brf.groupby('year')['births'].sum()\n",
    "ax.plot(female_births.index, female_births.values)\n",
    "brm = br.loc[br.gender == 'M']\n",
    "male_births = brm.groupby('year')['births'].sum()\n",
    "ax.plot(male_births.index, male_births.values)\n",
    "ax.legend(('F', 'M'), loc=2, title='gender')\n",
    "ax.set_xlabel(\"Year\")\n",
    "ax.set_ylabel(\"total births per year\")"
   ]
  },
  {
   "cell_type": "markdown",
   "metadata": {},
   "source": [
    "# 1.2 Births anomalies\n",
    "\n",
    "This was analyzed by beloved statistician Andrew Gelman [here](http://andrewgelman.com/2012/06/14/cool-ass-signal-processing-using-gaussian-processes/), leading to this plot:\n",
    "\n",
    "![](births_gp100.png)\n",
    "\n",
    "Explain all three plots in Gelman's figure. \n",
    "\n",
    "**1.2:** What is the periodic component? What is the residual? Use your research skills to learn then explain it (in english)."
   ]
  },
  {
   "cell_type": "markdown",
   "metadata": {},
   "source": [
    "Andrew Gelman used a Gaussian process to decompose the plot of births by day of year into a periodic component and a residual.  The first plot shows the number of births relative to an average value of 100 as a function of day of the year.  The plot also includes a smoothed line that is filtered to remove noise.  He highlightes holidays that mainly have dips in number of births because births are less likely to be induced, and c-sections less likely to be performed.  The second plot shows the periodic component of the number of births.  These consist of repetitive and generally regular and predictable patters in the time series.  As Gelman indicates, the periodic component due to week is still in effect becuase the data is only taken over the course of 20 years.  By removing the seasonlity from the first births plot, you are left with the residual component in the third plot.  This makes the circled outliers previously discussed much more apparent."
   ]
  },
  {
   "cell_type": "markdown",
   "metadata": {},
   "source": [
    "# 1.3 Holiday Anomalies Plot\n",
    "\n",
    "Reproduce *as best you can* the first of the 3 figures from Andrew Gelman's blog post (your plot may have small differences)\n",
    "\n",
    "**1.3.1:** Reproduce the births line in a plot. Hint: Make the x axis a `pd.datetime` object\n",
    "\n",
    "**1.3.2:** Reproduce the `smoothed` line. Hint: use a rolling window average\n",
    "\n",
    "**1.3.3:** Reproduce the entire figure with the mean line as a horizontal. You can make the y axis total births instead of a % deviation from mean axis (they'll look the same anyway)"
   ]
  },
  {
   "cell_type": "code",
   "execution_count": 159,
   "metadata": {},
   "outputs": [
    {
     "data": {
      "text/html": [
       "<div>\n",
       "<style scoped>\n",
       "    .dataframe tbody tr th:only-of-type {\n",
       "        vertical-align: middle;\n",
       "    }\n",
       "\n",
       "    .dataframe tbody tr th {\n",
       "        vertical-align: top;\n",
       "    }\n",
       "\n",
       "    .dataframe thead th {\n",
       "        text-align: right;\n",
       "    }\n",
       "</style>\n",
       "<table border=\"1\" class=\"dataframe\">\n",
       "  <thead>\n",
       "    <tr style=\"text-align: right;\">\n",
       "      <th></th>\n",
       "      <th>year</th>\n",
       "      <th>month</th>\n",
       "      <th>day</th>\n",
       "      <th>gender</th>\n",
       "      <th>births</th>\n",
       "    </tr>\n",
       "  </thead>\n",
       "  <tbody>\n",
       "    <tr>\n",
       "      <th>0</th>\n",
       "      <td>1969</td>\n",
       "      <td>1</td>\n",
       "      <td>1</td>\n",
       "      <td>F</td>\n",
       "      <td>4046</td>\n",
       "    </tr>\n",
       "    <tr>\n",
       "      <th>1</th>\n",
       "      <td>1969</td>\n",
       "      <td>1</td>\n",
       "      <td>1</td>\n",
       "      <td>M</td>\n",
       "      <td>4440</td>\n",
       "    </tr>\n",
       "    <tr>\n",
       "      <th>2</th>\n",
       "      <td>1969</td>\n",
       "      <td>1</td>\n",
       "      <td>2</td>\n",
       "      <td>F</td>\n",
       "      <td>4454</td>\n",
       "    </tr>\n",
       "  </tbody>\n",
       "</table>\n",
       "</div>"
      ],
      "text/plain": [
       "   year  month  day gender  births\n",
       "0  1969      1    1      F    4046\n",
       "1  1969      1    1      M    4440\n",
       "2  1969      1    2      F    4454"
      ]
     },
     "metadata": {},
     "output_type": "display_data"
    }
   ],
   "source": [
    "quartiles = np.percentile(br['births'], [25, 50, 75])\n",
    "mu = quartiles[1]\n",
    "sig = 0.74 * (quartiles[2] - quartiles[0])\n",
    "br = br.query('(births > @mu - 5 * @sig) & (births < @mu + 5 * @sig)')\n",
    "br['day'] = br['day'].astype(int)\n",
    "display(br.head(3))"
   ]
  },
  {
   "cell_type": "code",
   "execution_count": 160,
   "metadata": {},
   "outputs": [],
   "source": [
    "br = br.dropna()"
   ]
  },
  {
   "cell_type": "code",
   "execution_count": 161,
   "metadata": {},
   "outputs": [],
   "source": [
    "br = br.loc[br.day <= 31]"
   ]
  },
  {
   "cell_type": "code",
   "execution_count": 162,
   "metadata": {},
   "outputs": [],
   "source": [
    "br.day=br.day.astype(int)"
   ]
  },
  {
   "cell_type": "code",
   "execution_count": 163,
   "metadata": {},
   "outputs": [
    {
     "data": {
      "text/html": [
       "<div>\n",
       "<style scoped>\n",
       "    .dataframe tbody tr th:only-of-type {\n",
       "        vertical-align: middle;\n",
       "    }\n",
       "\n",
       "    .dataframe tbody tr th {\n",
       "        vertical-align: top;\n",
       "    }\n",
       "\n",
       "    .dataframe thead th {\n",
       "        text-align: right;\n",
       "    }\n",
       "</style>\n",
       "<table border=\"1\" class=\"dataframe\">\n",
       "  <thead>\n",
       "    <tr style=\"text-align: right;\">\n",
       "      <th></th>\n",
       "      <th>year</th>\n",
       "      <th>month</th>\n",
       "      <th>day</th>\n",
       "      <th>gender</th>\n",
       "      <th>births</th>\n",
       "    </tr>\n",
       "  </thead>\n",
       "  <tbody>\n",
       "    <tr>\n",
       "      <th>0</th>\n",
       "      <td>2008</td>\n",
       "      <td>1</td>\n",
       "      <td>1</td>\n",
       "      <td>F</td>\n",
       "      <td>4046</td>\n",
       "    </tr>\n",
       "    <tr>\n",
       "      <th>1</th>\n",
       "      <td>2008</td>\n",
       "      <td>1</td>\n",
       "      <td>1</td>\n",
       "      <td>M</td>\n",
       "      <td>4440</td>\n",
       "    </tr>\n",
       "    <tr>\n",
       "      <th>2</th>\n",
       "      <td>2008</td>\n",
       "      <td>1</td>\n",
       "      <td>2</td>\n",
       "      <td>F</td>\n",
       "      <td>4454</td>\n",
       "    </tr>\n",
       "    <tr>\n",
       "      <th>3</th>\n",
       "      <td>2008</td>\n",
       "      <td>1</td>\n",
       "      <td>2</td>\n",
       "      <td>M</td>\n",
       "      <td>4548</td>\n",
       "    </tr>\n",
       "    <tr>\n",
       "      <th>4</th>\n",
       "      <td>2008</td>\n",
       "      <td>1</td>\n",
       "      <td>3</td>\n",
       "      <td>F</td>\n",
       "      <td>4548</td>\n",
       "    </tr>\n",
       "    <tr>\n",
       "      <th>...</th>\n",
       "      <td>...</td>\n",
       "      <td>...</td>\n",
       "      <td>...</td>\n",
       "      <td>...</td>\n",
       "      <td>...</td>\n",
       "    </tr>\n",
       "    <tr>\n",
       "      <th>15062</th>\n",
       "      <td>2008</td>\n",
       "      <td>12</td>\n",
       "      <td>29</td>\n",
       "      <td>M</td>\n",
       "      <td>5944</td>\n",
       "    </tr>\n",
       "    <tr>\n",
       "      <th>15063</th>\n",
       "      <td>2008</td>\n",
       "      <td>12</td>\n",
       "      <td>30</td>\n",
       "      <td>F</td>\n",
       "      <td>5742</td>\n",
       "    </tr>\n",
       "    <tr>\n",
       "      <th>15064</th>\n",
       "      <td>2008</td>\n",
       "      <td>12</td>\n",
       "      <td>30</td>\n",
       "      <td>M</td>\n",
       "      <td>6095</td>\n",
       "    </tr>\n",
       "    <tr>\n",
       "      <th>15065</th>\n",
       "      <td>2008</td>\n",
       "      <td>12</td>\n",
       "      <td>31</td>\n",
       "      <td>F</td>\n",
       "      <td>4435</td>\n",
       "    </tr>\n",
       "    <tr>\n",
       "      <th>15066</th>\n",
       "      <td>2008</td>\n",
       "      <td>12</td>\n",
       "      <td>31</td>\n",
       "      <td>M</td>\n",
       "      <td>4698</td>\n",
       "    </tr>\n",
       "  </tbody>\n",
       "</table>\n",
       "<p>14610 rows × 5 columns</p>\n",
       "</div>"
      ],
      "text/plain": [
       "       year  month  day gender  births\n",
       "0      2008      1    1      F    4046\n",
       "1      2008      1    1      M    4440\n",
       "2      2008      1    2      F    4454\n",
       "3      2008      1    2      M    4548\n",
       "4      2008      1    3      F    4548\n",
       "...     ...    ...  ...    ...     ...\n",
       "15062  2008     12   29      M    5944\n",
       "15063  2008     12   30      F    5742\n",
       "15064  2008     12   30      M    6095\n",
       "15065  2008     12   31      F    4435\n",
       "15066  2008     12   31      M    4698\n",
       "\n",
       "[14610 rows x 5 columns]"
      ]
     },
     "execution_count": 163,
     "metadata": {},
     "output_type": "execute_result"
    }
   ],
   "source": [
    "br.loc[:,'year'] = '2008'\n",
    "br"
   ]
  },
  {
   "cell_type": "code",
   "execution_count": 164,
   "metadata": {},
   "outputs": [],
   "source": [
    "br['month'] = br['month'].astype(str)\n",
    "br['day'] = br['day'].astype(str)"
   ]
  },
  {
   "cell_type": "code",
   "execution_count": 165,
   "metadata": {},
   "outputs": [],
   "source": [
    "br.index = pd.to_datetime(br.year+br.month+br.day,format=\"%Y%m%d\", errors='coerce')"
   ]
  },
  {
   "cell_type": "code",
   "execution_count": 166,
   "metadata": {},
   "outputs": [
    {
     "data": {
      "text/html": [
       "<div>\n",
       "<style scoped>\n",
       "    .dataframe tbody tr th:only-of-type {\n",
       "        vertical-align: middle;\n",
       "    }\n",
       "\n",
       "    .dataframe tbody tr th {\n",
       "        vertical-align: top;\n",
       "    }\n",
       "\n",
       "    .dataframe thead th {\n",
       "        text-align: right;\n",
       "    }\n",
       "</style>\n",
       "<table border=\"1\" class=\"dataframe\">\n",
       "  <thead>\n",
       "    <tr style=\"text-align: right;\">\n",
       "      <th></th>\n",
       "      <th></th>\n",
       "      <th>births</th>\n",
       "    </tr>\n",
       "  </thead>\n",
       "  <tbody>\n",
       "    <tr>\n",
       "      <th rowspan=\"5\" valign=\"top\">1</th>\n",
       "      <th>1</th>\n",
       "      <td>4009.225</td>\n",
       "    </tr>\n",
       "    <tr>\n",
       "      <th>2</th>\n",
       "      <td>4247.400</td>\n",
       "    </tr>\n",
       "    <tr>\n",
       "      <th>3</th>\n",
       "      <td>4500.900</td>\n",
       "    </tr>\n",
       "    <tr>\n",
       "      <th>4</th>\n",
       "      <td>4571.350</td>\n",
       "    </tr>\n",
       "    <tr>\n",
       "      <th>5</th>\n",
       "      <td>4603.625</td>\n",
       "    </tr>\n",
       "    <tr>\n",
       "      <th>...</th>\n",
       "      <th>...</th>\n",
       "      <td>...</td>\n",
       "    </tr>\n",
       "    <tr>\n",
       "      <th rowspan=\"5\" valign=\"top\">12</th>\n",
       "      <th>27</th>\n",
       "      <td>4850.150</td>\n",
       "    </tr>\n",
       "    <tr>\n",
       "      <th>28</th>\n",
       "      <td>5044.200</td>\n",
       "    </tr>\n",
       "    <tr>\n",
       "      <th>29</th>\n",
       "      <td>5120.150</td>\n",
       "    </tr>\n",
       "    <tr>\n",
       "      <th>30</th>\n",
       "      <td>5172.350</td>\n",
       "    </tr>\n",
       "    <tr>\n",
       "      <th>31</th>\n",
       "      <td>4859.200</td>\n",
       "    </tr>\n",
       "  </tbody>\n",
       "</table>\n",
       "<p>348 rows × 1 columns</p>\n",
       "</div>"
      ],
      "text/plain": [
       "         births\n",
       "1  1   4009.225\n",
       "   2   4247.400\n",
       "   3   4500.900\n",
       "   4   4571.350\n",
       "   5   4603.625\n",
       "...         ...\n",
       "12 27  4850.150\n",
       "   28  5044.200\n",
       "   29  5120.150\n",
       "   30  5172.350\n",
       "   31  4859.200\n",
       "\n",
       "[348 rows x 1 columns]"
      ]
     },
     "execution_count": 166,
     "metadata": {},
     "output_type": "execute_result"
    }
   ],
   "source": [
    "br = br.pivot_table('births', [br.index.month, br.index.day])\n",
    "br"
   ]
  },
  {
   "cell_type": "code",
   "execution_count": 167,
   "metadata": {},
   "outputs": [
    {
     "name": "stderr",
     "output_type": "stream",
     "text": [
      "<ipython-input-167-493c8db27b48>:1: FutureWarning: The pandas.datetime class is deprecated and will be removed from pandas in a future version. Import from datetime module instead.\n",
      "  br.index = [pd.datetime(2008, month, day) for month,day in br.index]\n"
     ]
    }
   ],
   "source": [
    "br.index = [pd.datetime(2008, month, day) for month,day in br.index]"
   ]
  },
  {
   "cell_type": "code",
   "execution_count": 168,
   "metadata": {},
   "outputs": [
    {
     "data": {
      "text/plain": [
       "<bound method NDFrame.head of               births\n",
       "2008-01-01  4009.225\n",
       "2008-01-02  4247.400\n",
       "2008-01-03  4500.900\n",
       "2008-01-04  4571.350\n",
       "2008-01-05  4603.625\n",
       "...              ...\n",
       "2008-12-27  4850.150\n",
       "2008-12-28  5044.200\n",
       "2008-12-29  5120.150\n",
       "2008-12-30  5172.350\n",
       "2008-12-31  4859.200\n",
       "\n",
       "[348 rows x 1 columns]>"
      ]
     },
     "metadata": {},
     "output_type": "display_data"
    }
   ],
   "source": [
    "display(br.head)"
   ]
  },
  {
   "cell_type": "code",
   "execution_count": 169,
   "metadata": {},
   "outputs": [
    {
     "data": {
      "text/plain": [
       "Text(0, 0.5, 'total births per year')"
      ]
     },
     "execution_count": 169,
     "metadata": {},
     "output_type": "execute_result"
    },
    {
     "data": {
      "image/png": "[encoded data removed]",
      "text/plain": [
       "<Figure size 720x720 with 1 Axes>"
      ]
     },
     "metadata": {
      "needs_background": "light"
     },
     "output_type": "display_data"
    }
   ],
   "source": [
    "fig, ax = plt.subplots(figsize = (10,10))\n",
    "br.plot(ax = ax)\n",
    "br.rolling(window = 8).mean().plot(ax = ax)\n",
    "plt.axhline(y=br.births.mean(), color = 'g')\n",
    "ax.legend(('Births', 'Smoothed', 'Mean'), loc=2)\n",
    "ax.set_xlabel(\"Day\")\n",
    "ax.set_ylabel(\"total births per year\")"
   ]
  },
  {
   "cell_type": "markdown",
   "metadata": {},
   "source": [
    "# 2. Recipe Database\n",
    "\n",
    "### 2.1 \n",
    "\n",
    "Load the JSON recipe database we saw in lecture 4.\n",
    "\n",
    "How many of the recipes are for breakfast food? Hint: The `description` would contain the work \"breakfast\""
   ]
  },
  {
   "cell_type": "code",
   "execution_count": 170,
   "metadata": {},
   "outputs": [],
   "source": [
    "import gzip"
   ]
  },
  {
   "cell_type": "code",
   "execution_count": 173,
   "metadata": {},
   "outputs": [],
   "source": [
    "with gzip.open(\"Data/recipe.json.gz\", 'r') as f:\n",
    "    data = (line.strip().decode() for line in f)\n",
    "    data_json = f\"[ {','.join(data)} ]\"\n",
    "    df = pd.read_json(data_json)"
   ]
  },
  {
   "cell_type": "code",
   "execution_count": 174,
   "metadata": {},
   "outputs": [
    {
     "data": {
      "text/plain": [
       "3442"
      ]
     },
     "execution_count": 174,
     "metadata": {},
     "output_type": "execute_result"
    }
   ],
   "source": [
    "breakfast = df['description'].str.contains(\"breakfast\")\n",
    "breakfast.sum()"
   ]
  },
  {
   "cell_type": "markdown",
   "metadata": {},
   "source": [
    "### 2.2 A simple recipe recommender\n",
    "\n",
    "Let's build a recipe recommender: given a list of basic ingredients, find a recipe that uses all those ingredients.\n",
    "\n",
    "Here is the list of ingredients that can be asked for:\n",
    "\n",
    "```\n",
    "['salt', 'pepper', 'oregano', 'sage', 'parsley',\n",
    " 'rosemary', 'tarragon', 'thyme', 'paprika', 'cumin']\n",
    "```\n",
    "\n",
    "**Hint:** Build a new column for each of the ingredients that indicates whether that ingredient is in the recipe.\n",
    "\n",
    "**example:**\n",
    "```\n",
    "recommend_ingredients([\"parsley\", \"paprika\", \"tarragon\"], df)\n",
    "\n",
    "result: \n",
    "# The rows where these 3 ingredients are in the recipe\n",
    "[2069, 74964, 93768, 113926, 137686, 140530, 158475, 158486, 163175, 165243]\n",
    "```"
   ]
  },
  {
   "cell_type": "code",
   "execution_count": 175,
   "metadata": {},
   "outputs": [],
   "source": [
    "def recommend_ingredients(ingredients_list, dataframe):\n",
    "    '''\n",
    "    Given a list of basic ingredients, find a recipe\n",
    "    that uses all those ingredients.\n",
    "    '''\n",
    "    \n",
    "    for ingredient in ingredients_list:\n",
    "        df[ingredient] = df['ingredients'].str.contains(ingredient)\n",
    "        \n",
    "    rp=df.iloc[:, -len(ingredients_list):]\n",
    "    \n",
    "    recipes = rp.index[(rp.all(axis=1))].tolist()\n",
    "    \n",
    "    print(f\"# The rows where these {len(ingredients_list)} ingredients are in the recipe\")\n",
    "    \n",
    "    return recipes"
   ]
  },
  {
   "cell_type": "code",
   "execution_count": 176,
   "metadata": {},
   "outputs": [
    {
     "name": "stdout",
     "output_type": "stream",
     "text": [
      "# The rows where these 3 ingredients are in the recipe\n"
     ]
    },
    {
     "data": {
      "text/plain": [
       "[2069, 74964, 93768, 113926, 137686, 140530, 158475, 158486, 163175, 165243]"
      ]
     },
     "execution_count": 176,
     "metadata": {},
     "output_type": "execute_result"
    }
   ],
   "source": [
    "recommend_ingredients([\"parsley\", \"paprika\", \"tarragon\"], df)"
   ]
  },
  {
   "cell_type": "markdown",
   "metadata": {},
   "source": [
    "# 3. Movies!\n",
    "\n",
    "Recall the [Movies Dataset](https://www.kaggle.com/rounakbanik/the-movies-dataset) from lecture 4. It's made up of several tables which we've played with in lecture 4.\n",
    "\n",
    "The tables have common columns (`id` and `movie_id`) around which you can merge and join tables.\n",
    "\n",
    "### 3.1 best director\n",
    "\n",
    "Your task is to find **The best director** in terms of average ratings of his movies. This can be from the `ratings` or `ratings_small` table, or simply the vote average in the `metadata` table. The director can be found in the `cast` table.\n",
    "\n",
    "You will have to use all of your skills to get this done, between using groupbys and merging multiple tables together"
   ]
  },
  {
   "cell_type": "code",
   "execution_count": 177,
   "metadata": {},
   "outputs": [],
   "source": [
    "import json"
   ]
  },
  {
   "cell_type": "code",
   "execution_count": 179,
   "metadata": {
    "scrolled": true
   },
   "outputs": [],
   "source": [
    "movies_url = {\n",
    "\"movies_metadata\": \"1RLvh6rhzYiDDjPaudDgyS9LmqjbKH-wh\",\n",
    "\"keywords\": \"1YLOIxb-EPC_7QpkmRqkq9E6j7iqmoEh3\",\n",
    "\"ratings\": \"1_5HNurSOMnU0JIcXBJ5mv1NaXCx9oCVG\",\n",
    "\"credits\": \"1bX9othXfLu5NZbVZtIPGV5Hbn8b5URPf\",\n",
    "\"ratings_small\": \"1fCWT69efrj4Oxdm8ZNoTeSahCOy6_u6w\",\n",
    "\"links_small\": \"1fh6pS7XuNgnZk2J3EmYk_9jO_Au_6C15\",\n",
    "\"links\": \"1hWUSMo_GwkfmhehKqs8Rs6mWIauklkbP\",\n",
    "}\n",
    "\n",
    "def read_gdrive(url):\n",
    "    \"\"\"\n",
    "    Reads file from Google Drive sharing link\n",
    "    \"\"\"\n",
    "    path = 'https://drive.google.com/uc?export=download&id='+url\n",
    "    return pd.read_csv(path)\n",
    "\n",
    "rs = read_gdrive(movies_url[\"ratings_small\"])"
   ]
  },
  {
   "cell_type": "code",
   "execution_count": 180,
   "metadata": {},
   "outputs": [],
   "source": [
    "#The credits file wasn't working for me from Google Drive, so I downloaded them to the data folder\n",
    "credits = pd.read_csv('data/credits.csv')"
   ]
  },
  {
   "cell_type": "code",
   "execution_count": 181,
   "metadata": {},
   "outputs": [],
   "source": [
    "import re"
   ]
  },
  {
   "cell_type": "code",
   "execution_count": 182,
   "metadata": {},
   "outputs": [],
   "source": [
    "def find_director(json_str):\n",
    "    object_re = r'{.*?}'\n",
    "    director_re = r\"'job': 'Director'\"\n",
    "    names_re = r\"'name': '(.*?)',\"\n",
    "    director = 'Anonymous'\n",
    "    for match in re.findall(object_re, json_str):\n",
    "        director_match = re.search(director_re, str(match))\n",
    "        if director_match:\n",
    "            name_match = re.search(names_re, str(match))\n",
    "            if name_match:\n",
    "                director = name_match.group(1)\n",
    "                break\n",
    "    return director"
   ]
  },
  {
   "cell_type": "code",
   "execution_count": 183,
   "metadata": {
    "scrolled": true
   },
   "outputs": [],
   "source": [
    "res = [{\"movieId\": y, \"director\": find_director(x)} for x,y in zip(credits['crew'], credits['id'])]\n",
    "\n",
    "directors = pd.DataFrame(res)"
   ]
  },
  {
   "cell_type": "code",
   "execution_count": 140,
   "metadata": {},
   "outputs": [
    {
     "data": {
      "text/html": [
       "<div>\n",
       "<style scoped>\n",
       "    .dataframe tbody tr th:only-of-type {\n",
       "        vertical-align: middle;\n",
       "    }\n",
       "\n",
       "    .dataframe tbody tr th {\n",
       "        vertical-align: top;\n",
       "    }\n",
       "\n",
       "    .dataframe thead th {\n",
       "        text-align: right;\n",
       "    }\n",
       "</style>\n",
       "<table border=\"1\" class=\"dataframe\">\n",
       "  <thead>\n",
       "    <tr style=\"text-align: right;\">\n",
       "      <th></th>\n",
       "      <th>userId</th>\n",
       "      <th>movieId</th>\n",
       "      <th>rating</th>\n",
       "      <th>timestamp</th>\n",
       "      <th>director</th>\n",
       "    </tr>\n",
       "  </thead>\n",
       "  <tbody>\n",
       "    <tr>\n",
       "      <th>0</th>\n",
       "      <td>1</td>\n",
       "      <td>1371</td>\n",
       "      <td>2.5</td>\n",
       "      <td>1260759135</td>\n",
       "      <td>Sylvester Stallone</td>\n",
       "    </tr>\n",
       "    <tr>\n",
       "      <th>1</th>\n",
       "      <td>4</td>\n",
       "      <td>1371</td>\n",
       "      <td>4.0</td>\n",
       "      <td>949810302</td>\n",
       "      <td>Sylvester Stallone</td>\n",
       "    </tr>\n",
       "    <tr>\n",
       "      <th>2</th>\n",
       "      <td>7</td>\n",
       "      <td>1371</td>\n",
       "      <td>3.0</td>\n",
       "      <td>851869160</td>\n",
       "      <td>Sylvester Stallone</td>\n",
       "    </tr>\n",
       "    <tr>\n",
       "      <th>3</th>\n",
       "      <td>19</td>\n",
       "      <td>1371</td>\n",
       "      <td>4.0</td>\n",
       "      <td>855193404</td>\n",
       "      <td>Sylvester Stallone</td>\n",
       "    </tr>\n",
       "    <tr>\n",
       "      <th>4</th>\n",
       "      <td>21</td>\n",
       "      <td>1371</td>\n",
       "      <td>3.0</td>\n",
       "      <td>853852263</td>\n",
       "      <td>Sylvester Stallone</td>\n",
       "    </tr>\n",
       "    <tr>\n",
       "      <th>...</th>\n",
       "      <td>...</td>\n",
       "      <td>...</td>\n",
       "      <td>...</td>\n",
       "      <td>...</td>\n",
       "      <td>...</td>\n",
       "    </tr>\n",
       "    <tr>\n",
       "      <th>44991</th>\n",
       "      <td>652</td>\n",
       "      <td>129009</td>\n",
       "      <td>4.0</td>\n",
       "      <td>1442690827</td>\n",
       "      <td>David Swift</td>\n",
       "    </tr>\n",
       "    <tr>\n",
       "      <th>44992</th>\n",
       "      <td>653</td>\n",
       "      <td>2103</td>\n",
       "      <td>3.0</td>\n",
       "      <td>948161066</td>\n",
       "      <td>Steven Soderbergh</td>\n",
       "    </tr>\n",
       "    <tr>\n",
       "      <th>44993</th>\n",
       "      <td>659</td>\n",
       "      <td>167</td>\n",
       "      <td>4.0</td>\n",
       "      <td>836137550</td>\n",
       "      <td>Iain Softley</td>\n",
       "    </tr>\n",
       "    <tr>\n",
       "      <th>44994</th>\n",
       "      <td>659</td>\n",
       "      <td>563</td>\n",
       "      <td>3.0</td>\n",
       "      <td>834694187</td>\n",
       "      <td>Paul Verhoeven</td>\n",
       "    </tr>\n",
       "    <tr>\n",
       "      <th>44995</th>\n",
       "      <td>665</td>\n",
       "      <td>129</td>\n",
       "      <td>3.0</td>\n",
       "      <td>995232528</td>\n",
       "      <td>Hayao Miyazaki</td>\n",
       "    </tr>\n",
       "  </tbody>\n",
       "</table>\n",
       "<p>44996 rows × 5 columns</p>\n",
       "</div>"
      ],
      "text/plain": [
       "       userId  movieId  rating   timestamp            director\n",
       "0           1     1371     2.5  1260759135  Sylvester Stallone\n",
       "1           4     1371     4.0   949810302  Sylvester Stallone\n",
       "2           7     1371     3.0   851869160  Sylvester Stallone\n",
       "3          19     1371     4.0   855193404  Sylvester Stallone\n",
       "4          21     1371     3.0   853852263  Sylvester Stallone\n",
       "...       ...      ...     ...         ...                 ...\n",
       "44991     652   129009     4.0  1442690827         David Swift\n",
       "44992     653     2103     3.0   948161066   Steven Soderbergh\n",
       "44993     659      167     4.0   836137550        Iain Softley\n",
       "44994     659      563     3.0   834694187      Paul Verhoeven\n",
       "44995     665      129     3.0   995232528      Hayao Miyazaki\n",
       "\n",
       "[44996 rows x 5 columns]"
      ]
     },
     "execution_count": 140,
     "metadata": {},
     "output_type": "execute_result"
    }
   ],
   "source": [
    "df = pd.merge(rs, directors, on='movieId')\n",
    "df"
   ]
  },
  {
   "cell_type": "code",
   "execution_count": 154,
   "metadata": {},
   "outputs": [
    {
     "data": {
      "text/plain": [
       "director\n",
       "Paul Breuls            5.0\n",
       "Karsten Kjær           5.0\n",
       "Herman Yau             5.0\n",
       "Stanley Donen          5.0\n",
       "Aziz Mirza             5.0\n",
       "Anthony Russo          5.0\n",
       "Charles Laughton       5.0\n",
       "Ken Annakin            5.0\n",
       "Wolfgang Murnberger    5.0\n",
       "Carlos Diegues         5.0\n",
       "Carl Schenkel          5.0\n",
       "Sven Taddicken         5.0\n",
       "K Raghavendra Rao      5.0\n",
       "Harry O. Hoyt          5.0\n",
       "Thomas Vinterberg      5.0\n",
       "Bret Wood              5.0\n",
       "Todd Holland           5.0\n",
       "Tony Gatlif            5.0\n",
       "Vincent Sherman        5.0\n",
       "Adam McKay             5.0\n",
       "John Hough             5.0\n",
       "W.D. Hogan             5.0\n",
       "John Harrison          5.0\n",
       "Wellson Chin           5.0\n",
       "Xue Xiaolu             5.0\n",
       "Alfredo De Villa       5.0\n",
       "Lucy Walker            5.0\n",
       "Mikhail Kamenetskiy    5.0\n",
       "Jennifer Azano         5.0\n",
       "Andrés Wood            5.0\n",
       "Fernando Fragata       5.0\n",
       "Nicolás Alcalá         5.0\n",
       "Frank Borzage          5.0\n",
       "Phillip J. Roth        5.0\n",
       "Nathan Hynes           5.0\n",
       "Zeki Demirkubuz        5.0\n",
       "Jeff Nichols           5.0\n",
       "Mårten Klingberg       5.0\n",
       "Gabriel Axel           5.0\n",
       "Zach Helm              5.0\n",
       "Gary Nelson            5.0\n",
       "Richard Dutcher        5.0\n",
       "Robert Guédiguian      5.0\n",
       "Gerrard Verhage        5.0\n",
       "Jean-Marie Straub      5.0\n",
       "Guan Hu                5.0\n",
       "Luis Llosa             5.0\n",
       "Name: rating, dtype: float64"
      ]
     },
     "execution_count": 154,
     "metadata": {},
     "output_type": "execute_result"
    }
   ],
   "source": [
    "average_rating = df.groupby('director')['rating'].mean()\n",
    "average_rating = average_rating.sort_values(ascending=False)\n",
    "average_rating[:47]"
   ]
  },
  {
   "cell_type": "markdown",
   "metadata": {},
   "source": [
    "The above directors all have \"perfect\" ratings in this dataset."
   ]
  },
  {
   "cell_type": "code",
   "execution_count": null,
   "metadata": {},
   "outputs": [],
   "source": []
  }
 ],
 "metadata": {
  "kernelspec": {
   "display_name": "Python 3",
   "language": "python",
   "name": "python3"
  },
  "language_info": {
   "codemirror_mode": {
    "name": "ipython",
    "version": 3
   },
   "file_extension": ".py",
   "mimetype": "text/x-python",
   "name": "python",
   "nbconvert_exporter": "python",
   "pygments_lexer": "ipython3",
   "version": "3.8.3"
  }
 },
 "nbformat": 4,
 "nbformat_minor": 4
}
